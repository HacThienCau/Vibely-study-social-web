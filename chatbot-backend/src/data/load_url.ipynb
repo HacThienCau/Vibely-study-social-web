{
 "cells": [
  {
   "cell_type": "code",
   "execution_count": null,
   "metadata": {
    "vscode": {
     "languageId": "plaintext"
    }
   },
   "outputs": [],
   "source": [
    "urls = [\n",
    "    \"https://www.moet.gov.vn/giaoducquocdan/Pages/default.aspx\",  # Cổng thông tin Bộ GD&ĐT\n",
    "    \"https://hocmai.vn/phuong-phap-hoc-tap-hieu-qua/\",  # Phương pháp học tập\n",
    "    \"https://www.mindtools.com/pages/article/learning-styles.htm\",  # Phong cách học tập\n",
    "    \"https://www.studyinternational.vn/cac-phuong-phap-hoc-tap-hieu-qua/\",  # Kỹ năng học tập\n",
    "    \"https://www.edx.org/learn/study-skills\"  # Kỹ năng tự học\n",
    "]\n",
    "\n",
    "titles = [\n",
    "    \"Thông tin giáo dục chính thống\",\n",
    "    \"Phương pháp học tập hiệu quả\",\n",
    "    \"Các phong cách học tập khác nhau\",\n",
    "    \"Kỹ năng học tập cần thiết\",\n",
    "    \"Kỹ năng tự học online\"\n",
    "]"
   ]
  }
 ],
 "metadata": {
  "language_info": {
   "name": "python"
  }
 },
 "nbformat": 4,
 "nbformat_minor": 2
}
